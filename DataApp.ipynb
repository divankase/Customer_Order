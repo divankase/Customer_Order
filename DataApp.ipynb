{
 "cells": [
  {
   "cell_type": "markdown",
   "id": "750ae625-0bee-4c7c-8035-d291defb19ae",
   "metadata": {},
   "source": [
    "# Part 1 : Data Preparation"
   ]
  },
  {
   "cell_type": "markdown",
   "id": "6ae4a2d8-8daf-4ef1-aee6-4429642ee2bb",
   "metadata": {},
   "source": [
    "# Data Import "
   ]
  },
  {
   "cell_type": "code",
   "execution_count": 217,
   "id": "7f912c8b-39e0-4ee1-b10d-55c5e453bef6",
   "metadata": {},
   "outputs": [],
   "source": [
    "import pandas as pd\n",
    "from sqlalchemy import create_engine, Table, Column, Integer, String, Float, MetaData, Date\n",
    "import pymysql\n",
    "from sqlalchemy import create_engine\n",
    "from sqlalchemy.exc import SQLAlchemyError"
   ]
  },
  {
   "cell_type": "code",
   "execution_count": 218,
   "id": "90c7ae79-8606-41e1-89c3-2f536d65a784",
   "metadata": {},
   "outputs": [
    {
     "data": {
      "text/html": [
       "<div>\n",
       "<style scoped>\n",
       "    .dataframe tbody tr th:only-of-type {\n",
       "        vertical-align: middle;\n",
       "    }\n",
       "\n",
       "    .dataframe tbody tr th {\n",
       "        vertical-align: top;\n",
       "    }\n",
       "\n",
       "    .dataframe thead th {\n",
       "        text-align: right;\n",
       "    }\n",
       "</style>\n",
       "<table border=\"1\" class=\"dataframe\">\n",
       "  <thead>\n",
       "    <tr style=\"text-align: right;\">\n",
       "      <th></th>\n",
       "      <th>customer_id</th>\n",
       "      <th>name</th>\n",
       "      <th>email</th>\n",
       "    </tr>\n",
       "  </thead>\n",
       "  <tbody>\n",
       "    <tr>\n",
       "      <th>0</th>\n",
       "      <td>8</td>\n",
       "      <td>customer three</td>\n",
       "      <td>customer3@gmail.com</td>\n",
       "    </tr>\n",
       "    <tr>\n",
       "      <th>1</th>\n",
       "      <td>9</td>\n",
       "      <td>Shafran Naizer</td>\n",
       "      <td>mshafran13@gmail.com</td>\n",
       "    </tr>\n",
       "    <tr>\n",
       "      <th>2</th>\n",
       "      <td>10</td>\n",
       "      <td>Isuri Liyanage</td>\n",
       "      <td>liyanage.isukavi@gmail.com</td>\n",
       "    </tr>\n",
       "    <tr>\n",
       "      <th>3</th>\n",
       "      <td>12</td>\n",
       "      <td>Shafran Naizer</td>\n",
       "      <td>shafran@ieee.org</td>\n",
       "    </tr>\n",
       "    <tr>\n",
       "      <th>4</th>\n",
       "      <td>13</td>\n",
       "      <td>sss ss</td>\n",
       "      <td>ss@ieee.org</td>\n",
       "    </tr>\n",
       "  </tbody>\n",
       "</table>\n",
       "</div>"
      ],
      "text/plain": [
       "   customer_id            name                       email\n",
       "0            8  customer three         customer3@gmail.com\n",
       "1            9  Shafran Naizer        mshafran13@gmail.com\n",
       "2           10  Isuri Liyanage  liyanage.isukavi@gmail.com\n",
       "3           12  Shafran Naizer            shafran@ieee.org\n",
       "4           13          sss ss                 ss@ieee.org"
      ]
     },
     "execution_count": 218,
     "metadata": {},
     "output_type": "execute_result"
    }
   ],
   "source": [
    "customer = pd.read_csv('customers.csv')\n",
    "customer.head()"
   ]
  },
  {
   "cell_type": "code",
   "execution_count": 219,
   "id": "eb81cd51-0230-41e6-b4ff-519aad8a20eb",
   "metadata": {},
   "outputs": [
    {
     "data": {
      "text/html": [
       "<div>\n",
       "<style scoped>\n",
       "    .dataframe tbody tr th:only-of-type {\n",
       "        vertical-align: middle;\n",
       "    }\n",
       "\n",
       "    .dataframe tbody tr th {\n",
       "        vertical-align: top;\n",
       "    }\n",
       "\n",
       "    .dataframe thead th {\n",
       "        text-align: right;\n",
       "    }\n",
       "</style>\n",
       "<table border=\"1\" class=\"dataframe\">\n",
       "  <thead>\n",
       "    <tr style=\"text-align: right;\">\n",
       "      <th></th>\n",
       "      <th>id</th>\n",
       "      <th>display_order_id</th>\n",
       "      <th>total_amount</th>\n",
       "      <th>created_at</th>\n",
       "      <th>customer_id</th>\n",
       "    </tr>\n",
       "  </thead>\n",
       "  <tbody>\n",
       "    <tr>\n",
       "      <th>0</th>\n",
       "      <td>13392</td>\n",
       "      <td>YTFA</td>\n",
       "      <td>425</td>\n",
       "      <td>2024-10-14 15:12:43</td>\n",
       "      <td>1251.0</td>\n",
       "    </tr>\n",
       "    <tr>\n",
       "      <th>1</th>\n",
       "      <td>13393</td>\n",
       "      <td>N1U7</td>\n",
       "      <td>1650</td>\n",
       "      <td>2024-10-14 15:17:25</td>\n",
       "      <td>1251.0</td>\n",
       "    </tr>\n",
       "    <tr>\n",
       "      <th>2</th>\n",
       "      <td>13394</td>\n",
       "      <td>PADV</td>\n",
       "      <td>1365</td>\n",
       "      <td>2024-10-14 17:02:16</td>\n",
       "      <td>468.0</td>\n",
       "    </tr>\n",
       "    <tr>\n",
       "      <th>3</th>\n",
       "      <td>13395</td>\n",
       "      <td>OKVW</td>\n",
       "      <td>525</td>\n",
       "      <td>2024-10-14 17:03:36</td>\n",
       "      <td>1251.0</td>\n",
       "    </tr>\n",
       "    <tr>\n",
       "      <th>4</th>\n",
       "      <td>13396</td>\n",
       "      <td>2G3Q</td>\n",
       "      <td>525</td>\n",
       "      <td>2024-10-14 17:04:49</td>\n",
       "      <td>468.0</td>\n",
       "    </tr>\n",
       "  </tbody>\n",
       "</table>\n",
       "</div>"
      ],
      "text/plain": [
       "      id display_order_id  total_amount           created_at  customer_id\n",
       "0  13392             YTFA           425  2024-10-14 15:12:43       1251.0\n",
       "1  13393             N1U7          1650  2024-10-14 15:17:25       1251.0\n",
       "2  13394             PADV          1365  2024-10-14 17:02:16        468.0\n",
       "3  13395             OKVW           525  2024-10-14 17:03:36       1251.0\n",
       "4  13396             2G3Q           525  2024-10-14 17:04:49        468.0"
      ]
     },
     "execution_count": 219,
     "metadata": {},
     "output_type": "execute_result"
    }
   ],
   "source": [
    "order = pd.read_csv('order.csv')\n",
    "order.head()"
   ]
  },
  {
   "cell_type": "code",
   "execution_count": 220,
   "id": "d6d3644d-b936-46c1-aa04-56a2722e42f2",
   "metadata": {},
   "outputs": [
    {
     "data": {
      "text/plain": [
       "customer_id     0\n",
       "name            6\n",
       "email          18\n",
       "dtype: int64"
      ]
     },
     "execution_count": 220,
     "metadata": {},
     "output_type": "execute_result"
    }
   ],
   "source": [
    "customer.isnull().sum()"
   ]
  },
  {
   "cell_type": "code",
   "execution_count": 221,
   "id": "d26f2e00-b7f7-4e73-ada2-e283e1ed3803",
   "metadata": {},
   "outputs": [
    {
     "data": {
      "text/plain": [
       "id                    0\n",
       "display_order_id     36\n",
       "total_amount          0\n",
       "created_at            0\n",
       "customer_id         125\n",
       "dtype: int64"
      ]
     },
     "execution_count": 221,
     "metadata": {},
     "output_type": "execute_result"
    }
   ],
   "source": [
    "order.isnull().sum()"
   ]
  },
  {
   "cell_type": "code",
   "execution_count": 222,
   "id": "30e66d29-7925-480d-b439-d0452ccee8f0",
   "metadata": {},
   "outputs": [
    {
     "name": "stderr",
     "output_type": "stream",
     "text": [
      "C:\\Users\\Divanka\\AppData\\Local\\Temp\\ipykernel_10808\\2064338821.py:2: FutureWarning: A value is trying to be set on a copy of a DataFrame or Series through chained assignment using an inplace method.\n",
      "The behavior will change in pandas 3.0. This inplace method will never work because the intermediate object on which we are setting values always behaves as a copy.\n",
      "\n",
      "For example, when doing 'df[col].method(value, inplace=True)', try using 'df.method({col: value}, inplace=True)' or df[col] = df[col].method(value) instead, to perform the operation inplace on the original object.\n",
      "\n",
      "\n",
      "  customer['name'].fillna(\"unknown\", inplace=True)\n",
      "C:\\Users\\Divanka\\AppData\\Local\\Temp\\ipykernel_10808\\2064338821.py:3: FutureWarning: A value is trying to be set on a copy of a DataFrame or Series through chained assignment using an inplace method.\n",
      "The behavior will change in pandas 3.0. This inplace method will never work because the intermediate object on which we are setting values always behaves as a copy.\n",
      "\n",
      "For example, when doing 'df[col].method(value, inplace=True)', try using 'df.method({col: value}, inplace=True)' or df[col] = df[col].method(value) instead, to perform the operation inplace on the original object.\n",
      "\n",
      "\n",
      "  customer['email'].fillna(\"N/A\", inplace=True)\n"
     ]
    }
   ],
   "source": [
    "#fill null values in customer table \n",
    "customer['name'].fillna(\"unknown\", inplace=True)\n",
    "customer['email'].fillna(\"N/A\", inplace=True)"
   ]
  },
  {
   "cell_type": "code",
   "execution_count": 223,
   "id": "89be2ac9-46ba-440c-9af3-acf62271c9c1",
   "metadata": {},
   "outputs": [
    {
     "data": {
      "text/plain": [
       "customer_id    0\n",
       "name           0\n",
       "email          0\n",
       "dtype: int64"
      ]
     },
     "execution_count": 223,
     "metadata": {},
     "output_type": "execute_result"
    }
   ],
   "source": [
    "customer.isnull().sum()"
   ]
  },
  {
   "cell_type": "code",
   "execution_count": 224,
   "id": "d5359fc3-1aaf-43bd-8691-43594cf30023",
   "metadata": {},
   "outputs": [
    {
     "name": "stderr",
     "output_type": "stream",
     "text": [
      "C:\\Users\\Divanka\\AppData\\Local\\Temp\\ipykernel_10808\\1233562920.py:2: FutureWarning: A value is trying to be set on a copy of a DataFrame or Series through chained assignment using an inplace method.\n",
      "The behavior will change in pandas 3.0. This inplace method will never work because the intermediate object on which we are setting values always behaves as a copy.\n",
      "\n",
      "For example, when doing 'df[col].method(value, inplace=True)', try using 'df.method({col: value}, inplace=True)' or df[col] = df[col].method(value) instead, to perform the operation inplace on the original object.\n",
      "\n",
      "\n",
      "  order['customer_id'].fillna(\"N/A\", inplace=True)\n",
      "C:\\Users\\Divanka\\AppData\\Local\\Temp\\ipykernel_10808\\1233562920.py:2: FutureWarning: Setting an item of incompatible dtype is deprecated and will raise an error in a future version of pandas. Value 'N/A' has dtype incompatible with float64, please explicitly cast to a compatible dtype first.\n",
      "  order['customer_id'].fillna(\"N/A\", inplace=True)\n"
     ]
    }
   ],
   "source": [
    "#fill null values in order table \n",
    "order['customer_id'].fillna(\"N/A\", inplace=True)\n",
    "#only filled customer id column, because that feature should be included in database table(order)"
   ]
  },
  {
   "cell_type": "code",
   "execution_count": 225,
   "id": "3fd94c15-0a3a-4bc7-9af1-9e2e9b262c29",
   "metadata": {},
   "outputs": [
    {
     "data": {
      "text/plain": [
       "id                   0\n",
       "display_order_id    36\n",
       "total_amount         0\n",
       "created_at           0\n",
       "customer_id          0\n",
       "dtype: int64"
      ]
     },
     "execution_count": 225,
     "metadata": {},
     "output_type": "execute_result"
    }
   ],
   "source": [
    "order.isnull().sum()"
   ]
  },
  {
   "cell_type": "code",
   "execution_count": 226,
   "id": "9104e7b5-f3cb-4edc-9d12-85dc4aca45ad",
   "metadata": {},
   "outputs": [
    {
     "data": {
      "text/plain": [
       "0                        customer3@gmail.com\n",
       "1                       mshafran13@gmail.com\n",
       "2                 liyanage.isukavi@gmail.com\n",
       "3                           shafran@ieee.org\n",
       "4                                ss@ieee.org\n",
       "                        ...                 \n",
       "1109    alex.johnson+1729082517724@gmail.com\n",
       "1110                 dominguhewa98@gmail.com\n",
       "1111           liyanage.isukavi+22@gmail.com\n",
       "1112          red.test506+99654648@gmail.com\n",
       "1113                 lpw.ratnayake@gmail.com\n",
       "Name: email, Length: 1114, dtype: object"
      ]
     },
     "execution_count": 226,
     "metadata": {},
     "output_type": "execute_result"
    }
   ],
   "source": [
    "customer['email']"
   ]
  },
  {
   "cell_type": "code",
   "execution_count": 227,
   "id": "2ed1f268-cfa6-451a-abd4-9a29cd3c9d4d",
   "metadata": {},
   "outputs": [
    {
     "data": {
      "text/html": [
       "<div>\n",
       "<style scoped>\n",
       "    .dataframe tbody tr th:only-of-type {\n",
       "        vertical-align: middle;\n",
       "    }\n",
       "\n",
       "    .dataframe tbody tr th {\n",
       "        vertical-align: top;\n",
       "    }\n",
       "\n",
       "    .dataframe thead th {\n",
       "        text-align: right;\n",
       "    }\n",
       "</style>\n",
       "<table border=\"1\" class=\"dataframe\">\n",
       "  <thead>\n",
       "    <tr style=\"text-align: right;\">\n",
       "      <th></th>\n",
       "      <th>customer_id</th>\n",
       "      <th>name</th>\n",
       "    </tr>\n",
       "  </thead>\n",
       "  <tbody>\n",
       "    <tr>\n",
       "      <th>0</th>\n",
       "      <td>8</td>\n",
       "      <td>customer three</td>\n",
       "    </tr>\n",
       "    <tr>\n",
       "      <th>1</th>\n",
       "      <td>9</td>\n",
       "      <td>Shafran Naizer</td>\n",
       "    </tr>\n",
       "    <tr>\n",
       "      <th>2</th>\n",
       "      <td>10</td>\n",
       "      <td>Isuri Liyanage</td>\n",
       "    </tr>\n",
       "    <tr>\n",
       "      <th>3</th>\n",
       "      <td>12</td>\n",
       "      <td>Shafran Naizer</td>\n",
       "    </tr>\n",
       "    <tr>\n",
       "      <th>4</th>\n",
       "      <td>13</td>\n",
       "      <td>sss ss</td>\n",
       "    </tr>\n",
       "    <tr>\n",
       "      <th>...</th>\n",
       "      <td>...</td>\n",
       "      <td>...</td>\n",
       "    </tr>\n",
       "    <tr>\n",
       "      <th>1109</th>\n",
       "      <td>1270</td>\n",
       "      <td>Alex Johnson</td>\n",
       "    </tr>\n",
       "    <tr>\n",
       "      <th>1110</th>\n",
       "      <td>1271</td>\n",
       "      <td>Dinuka Kaveen Dominguhewa</td>\n",
       "    </tr>\n",
       "    <tr>\n",
       "      <th>1111</th>\n",
       "      <td>1272</td>\n",
       "      <td>K L</td>\n",
       "    </tr>\n",
       "    <tr>\n",
       "      <th>1112</th>\n",
       "      <td>1273</td>\n",
       "      <td>fdv dfvfd</td>\n",
       "    </tr>\n",
       "    <tr>\n",
       "      <th>1113</th>\n",
       "      <td>1274</td>\n",
       "      <td>Limani Ratnayake</td>\n",
       "    </tr>\n",
       "  </tbody>\n",
       "</table>\n",
       "<p>1114 rows × 2 columns</p>\n",
       "</div>"
      ],
      "text/plain": [
       "      customer_id                       name\n",
       "0               8             customer three\n",
       "1               9             Shafran Naizer\n",
       "2              10             Isuri Liyanage\n",
       "3              12             Shafran Naizer\n",
       "4              13                     sss ss\n",
       "...           ...                        ...\n",
       "1109         1270               Alex Johnson\n",
       "1110         1271  Dinuka Kaveen Dominguhewa\n",
       "1111         1272                        K L\n",
       "1112         1273                  fdv dfvfd\n",
       "1113         1274           Limani Ratnayake\n",
       "\n",
       "[1114 rows x 2 columns]"
      ]
     },
     "execution_count": 227,
     "metadata": {},
     "output_type": "execute_result"
    }
   ],
   "source": [
    "#remover irrelevant columns \n",
    "customers= customer.drop(columns=['email'])\n",
    "customers"
   ]
  },
  {
   "cell_type": "code",
   "execution_count": 228,
   "id": "66fea329-c232-44c8-a121-d4cdc06f6dda",
   "metadata": {},
   "outputs": [
    {
     "data": {
      "text/html": [
       "<div>\n",
       "<style scoped>\n",
       "    .dataframe tbody tr th:only-of-type {\n",
       "        vertical-align: middle;\n",
       "    }\n",
       "\n",
       "    .dataframe tbody tr th {\n",
       "        vertical-align: top;\n",
       "    }\n",
       "\n",
       "    .dataframe thead th {\n",
       "        text-align: right;\n",
       "    }\n",
       "</style>\n",
       "<table border=\"1\" class=\"dataframe\">\n",
       "  <thead>\n",
       "    <tr style=\"text-align: right;\">\n",
       "      <th></th>\n",
       "      <th>id</th>\n",
       "      <th>total_amount</th>\n",
       "      <th>created_at</th>\n",
       "      <th>customer_id</th>\n",
       "    </tr>\n",
       "  </thead>\n",
       "  <tbody>\n",
       "    <tr>\n",
       "      <th>0</th>\n",
       "      <td>13392</td>\n",
       "      <td>425</td>\n",
       "      <td>2024-10-14 15:12:43</td>\n",
       "      <td>1251.0</td>\n",
       "    </tr>\n",
       "    <tr>\n",
       "      <th>1</th>\n",
       "      <td>13393</td>\n",
       "      <td>1650</td>\n",
       "      <td>2024-10-14 15:17:25</td>\n",
       "      <td>1251.0</td>\n",
       "    </tr>\n",
       "    <tr>\n",
       "      <th>2</th>\n",
       "      <td>13394</td>\n",
       "      <td>1365</td>\n",
       "      <td>2024-10-14 17:02:16</td>\n",
       "      <td>468.0</td>\n",
       "    </tr>\n",
       "    <tr>\n",
       "      <th>3</th>\n",
       "      <td>13395</td>\n",
       "      <td>525</td>\n",
       "      <td>2024-10-14 17:03:36</td>\n",
       "      <td>1251.0</td>\n",
       "    </tr>\n",
       "    <tr>\n",
       "      <th>4</th>\n",
       "      <td>13396</td>\n",
       "      <td>525</td>\n",
       "      <td>2024-10-14 17:04:49</td>\n",
       "      <td>468.0</td>\n",
       "    </tr>\n",
       "    <tr>\n",
       "      <th>...</th>\n",
       "      <td>...</td>\n",
       "      <td>...</td>\n",
       "      <td>...</td>\n",
       "      <td>...</td>\n",
       "    </tr>\n",
       "    <tr>\n",
       "      <th>8112</th>\n",
       "      <td>814</td>\n",
       "      <td>450000</td>\n",
       "      <td>2022-03-03 06:24:59</td>\n",
       "      <td>58.0</td>\n",
       "    </tr>\n",
       "    <tr>\n",
       "      <th>8113</th>\n",
       "      <td>826</td>\n",
       "      <td>125000</td>\n",
       "      <td>2022-03-03 10:17:47</td>\n",
       "      <td>58.0</td>\n",
       "    </tr>\n",
       "    <tr>\n",
       "      <th>8114</th>\n",
       "      <td>830</td>\n",
       "      <td>260000</td>\n",
       "      <td>2022-03-03 11:47:15</td>\n",
       "      <td>58.0</td>\n",
       "    </tr>\n",
       "    <tr>\n",
       "      <th>8115</th>\n",
       "      <td>845</td>\n",
       "      <td>125000</td>\n",
       "      <td>2022-03-04 01:30:58</td>\n",
       "      <td>58.0</td>\n",
       "    </tr>\n",
       "    <tr>\n",
       "      <th>8116</th>\n",
       "      <td>867</td>\n",
       "      <td>125000</td>\n",
       "      <td>2022-03-04 10:53:58</td>\n",
       "      <td>58.0</td>\n",
       "    </tr>\n",
       "  </tbody>\n",
       "</table>\n",
       "<p>8117 rows × 4 columns</p>\n",
       "</div>"
      ],
      "text/plain": [
       "         id  total_amount           created_at customer_id\n",
       "0     13392           425  2024-10-14 15:12:43      1251.0\n",
       "1     13393          1650  2024-10-14 15:17:25      1251.0\n",
       "2     13394          1365  2024-10-14 17:02:16       468.0\n",
       "3     13395           525  2024-10-14 17:03:36      1251.0\n",
       "4     13396           525  2024-10-14 17:04:49       468.0\n",
       "...     ...           ...                  ...         ...\n",
       "8112    814        450000  2022-03-03 06:24:59        58.0\n",
       "8113    826        125000  2022-03-03 10:17:47        58.0\n",
       "8114    830        260000  2022-03-03 11:47:15        58.0\n",
       "8115    845        125000  2022-03-04 01:30:58        58.0\n",
       "8116    867        125000  2022-03-04 10:53:58        58.0\n",
       "\n",
       "[8117 rows x 4 columns]"
      ]
     },
     "execution_count": 228,
     "metadata": {},
     "output_type": "execute_result"
    }
   ],
   "source": [
    "#remove irrelevant columns in order table\n",
    "orders= order.drop(columns=['display_order_id'])\n",
    "orders"
   ]
  },
  {
   "cell_type": "code",
   "execution_count": 229,
   "id": "dbed2f43-a1fa-4a23-a019-e9ea184f1d94",
   "metadata": {},
   "outputs": [],
   "source": [
    "customers = customers.rename(columns={'name':'customer_name'})"
   ]
  },
  {
   "cell_type": "code",
   "execution_count": 230,
   "id": "02c4f738-1c85-4c06-ba9b-71b039d62870",
   "metadata": {},
   "outputs": [
    {
     "data": {
      "text/html": [
       "<div>\n",
       "<style scoped>\n",
       "    .dataframe tbody tr th:only-of-type {\n",
       "        vertical-align: middle;\n",
       "    }\n",
       "\n",
       "    .dataframe tbody tr th {\n",
       "        vertical-align: top;\n",
       "    }\n",
       "\n",
       "    .dataframe thead th {\n",
       "        text-align: right;\n",
       "    }\n",
       "</style>\n",
       "<table border=\"1\" class=\"dataframe\">\n",
       "  <thead>\n",
       "    <tr style=\"text-align: right;\">\n",
       "      <th></th>\n",
       "      <th>customer_id</th>\n",
       "      <th>customer_name</th>\n",
       "    </tr>\n",
       "  </thead>\n",
       "  <tbody>\n",
       "    <tr>\n",
       "      <th>0</th>\n",
       "      <td>8</td>\n",
       "      <td>customer three</td>\n",
       "    </tr>\n",
       "    <tr>\n",
       "      <th>1</th>\n",
       "      <td>9</td>\n",
       "      <td>Shafran Naizer</td>\n",
       "    </tr>\n",
       "    <tr>\n",
       "      <th>2</th>\n",
       "      <td>10</td>\n",
       "      <td>Isuri Liyanage</td>\n",
       "    </tr>\n",
       "    <tr>\n",
       "      <th>3</th>\n",
       "      <td>12</td>\n",
       "      <td>Shafran Naizer</td>\n",
       "    </tr>\n",
       "    <tr>\n",
       "      <th>4</th>\n",
       "      <td>13</td>\n",
       "      <td>sss ss</td>\n",
       "    </tr>\n",
       "  </tbody>\n",
       "</table>\n",
       "</div>"
      ],
      "text/plain": [
       "   customer_id   customer_name\n",
       "0            8  customer three\n",
       "1            9  Shafran Naizer\n",
       "2           10  Isuri Liyanage\n",
       "3           12  Shafran Naizer\n",
       "4           13          sss ss"
      ]
     },
     "execution_count": 230,
     "metadata": {},
     "output_type": "execute_result"
    }
   ],
   "source": [
    "customers.head()"
   ]
  },
  {
   "cell_type": "code",
   "execution_count": 231,
   "id": "751ef7e9-06bd-4cbe-bc19-76ea5b4c3ec0",
   "metadata": {},
   "outputs": [
    {
     "data": {
      "text/html": [
       "<div>\n",
       "<style scoped>\n",
       "    .dataframe tbody tr th:only-of-type {\n",
       "        vertical-align: middle;\n",
       "    }\n",
       "\n",
       "    .dataframe tbody tr th {\n",
       "        vertical-align: top;\n",
       "    }\n",
       "\n",
       "    .dataframe thead th {\n",
       "        text-align: right;\n",
       "    }\n",
       "</style>\n",
       "<table border=\"1\" class=\"dataframe\">\n",
       "  <thead>\n",
       "    <tr style=\"text-align: right;\">\n",
       "      <th></th>\n",
       "      <th>id</th>\n",
       "      <th>total_amount</th>\n",
       "      <th>created_at</th>\n",
       "      <th>customer_id</th>\n",
       "    </tr>\n",
       "  </thead>\n",
       "  <tbody>\n",
       "    <tr>\n",
       "      <th>0</th>\n",
       "      <td>13392</td>\n",
       "      <td>425</td>\n",
       "      <td>2024-10-14 15:12:43</td>\n",
       "      <td>1251.0</td>\n",
       "    </tr>\n",
       "    <tr>\n",
       "      <th>1</th>\n",
       "      <td>13393</td>\n",
       "      <td>1650</td>\n",
       "      <td>2024-10-14 15:17:25</td>\n",
       "      <td>1251.0</td>\n",
       "    </tr>\n",
       "    <tr>\n",
       "      <th>2</th>\n",
       "      <td>13394</td>\n",
       "      <td>1365</td>\n",
       "      <td>2024-10-14 17:02:16</td>\n",
       "      <td>468.0</td>\n",
       "    </tr>\n",
       "    <tr>\n",
       "      <th>3</th>\n",
       "      <td>13395</td>\n",
       "      <td>525</td>\n",
       "      <td>2024-10-14 17:03:36</td>\n",
       "      <td>1251.0</td>\n",
       "    </tr>\n",
       "    <tr>\n",
       "      <th>4</th>\n",
       "      <td>13396</td>\n",
       "      <td>525</td>\n",
       "      <td>2024-10-14 17:04:49</td>\n",
       "      <td>468.0</td>\n",
       "    </tr>\n",
       "  </tbody>\n",
       "</table>\n",
       "</div>"
      ],
      "text/plain": [
       "      id  total_amount           created_at customer_id\n",
       "0  13392           425  2024-10-14 15:12:43      1251.0\n",
       "1  13393          1650  2024-10-14 15:17:25      1251.0\n",
       "2  13394          1365  2024-10-14 17:02:16       468.0\n",
       "3  13395           525  2024-10-14 17:03:36      1251.0\n",
       "4  13396           525  2024-10-14 17:04:49       468.0"
      ]
     },
     "execution_count": 231,
     "metadata": {},
     "output_type": "execute_result"
    }
   ],
   "source": [
    "orders.head()"
   ]
  },
  {
   "cell_type": "code",
   "execution_count": 232,
   "id": "d4cfdb3d-64e9-433d-82f0-e2656c0d0e62",
   "metadata": {},
   "outputs": [
    {
     "data": {
      "text/html": [
       "<div>\n",
       "<style scoped>\n",
       "    .dataframe tbody tr th:only-of-type {\n",
       "        vertical-align: middle;\n",
       "    }\n",
       "\n",
       "    .dataframe tbody tr th {\n",
       "        vertical-align: top;\n",
       "    }\n",
       "\n",
       "    .dataframe thead th {\n",
       "        text-align: right;\n",
       "    }\n",
       "</style>\n",
       "<table border=\"1\" class=\"dataframe\">\n",
       "  <thead>\n",
       "    <tr style=\"text-align: right;\">\n",
       "      <th></th>\n",
       "      <th>order_id</th>\n",
       "      <th>total_amount</th>\n",
       "      <th>order_date</th>\n",
       "      <th>customer_id</th>\n",
       "    </tr>\n",
       "  </thead>\n",
       "  <tbody>\n",
       "    <tr>\n",
       "      <th>0</th>\n",
       "      <td>13392</td>\n",
       "      <td>425</td>\n",
       "      <td>2024-10-14 15:12:43</td>\n",
       "      <td>1251.0</td>\n",
       "    </tr>\n",
       "    <tr>\n",
       "      <th>1</th>\n",
       "      <td>13393</td>\n",
       "      <td>1650</td>\n",
       "      <td>2024-10-14 15:17:25</td>\n",
       "      <td>1251.0</td>\n",
       "    </tr>\n",
       "    <tr>\n",
       "      <th>2</th>\n",
       "      <td>13394</td>\n",
       "      <td>1365</td>\n",
       "      <td>2024-10-14 17:02:16</td>\n",
       "      <td>468.0</td>\n",
       "    </tr>\n",
       "    <tr>\n",
       "      <th>3</th>\n",
       "      <td>13395</td>\n",
       "      <td>525</td>\n",
       "      <td>2024-10-14 17:03:36</td>\n",
       "      <td>1251.0</td>\n",
       "    </tr>\n",
       "    <tr>\n",
       "      <th>4</th>\n",
       "      <td>13396</td>\n",
       "      <td>525</td>\n",
       "      <td>2024-10-14 17:04:49</td>\n",
       "      <td>468.0</td>\n",
       "    </tr>\n",
       "  </tbody>\n",
       "</table>\n",
       "</div>"
      ],
      "text/plain": [
       "   order_id  total_amount           order_date customer_id\n",
       "0     13392           425  2024-10-14 15:12:43      1251.0\n",
       "1     13393          1650  2024-10-14 15:17:25      1251.0\n",
       "2     13394          1365  2024-10-14 17:02:16       468.0\n",
       "3     13395           525  2024-10-14 17:03:36      1251.0\n",
       "4     13396           525  2024-10-14 17:04:49       468.0"
      ]
     },
     "execution_count": 232,
     "metadata": {},
     "output_type": "execute_result"
    }
   ],
   "source": [
    "orders=orders.rename(columns={'id':'order_id',\n",
    "                             'created_at':'order_date'})\n",
    "orders.head()"
   ]
  },
  {
   "cell_type": "code",
   "execution_count": 242,
   "id": "09675a5d-da7a-4b92-a401-0a5be20926e4",
   "metadata": {},
   "outputs": [],
   "source": [
    "# Define your MySQL connection parameters\n",
    "MYSQL_USER = 'root'\n",
    "MYSQL_PASSWORD = ''\n",
    "MYSQL_HOST = 'sql12.freesqldatabase.com'\n",
    "MYSQL_PORT = 3306\n",
    "MYSQL_DATABASE = 'sql12740691'\n",
    "Database_password: 'xnGri65wVa'"
   ]
  },
  {
   "cell_type": "code",
   "execution_count": 244,
   "id": "ca4f1d3e-429e-4e3a-b187-e7a62a7f3942",
   "metadata": {},
   "outputs": [],
   "source": [
    "# # Establish connection\n",
    "# connection = pymysql.connect(\n",
    "#   host = MYSQL_HOST,\n",
    "#   user = MYSQL_USER,\n",
    "#   password = MYSQL_PASSWORD\n",
    "# )\n",
    "\n",
    "# # Create a cursor object to interact with the database\n",
    "# cursor = connection.cursor()"
   ]
  },
  {
   "cell_type": "code",
   "execution_count": 245,
   "id": "3fb7ff4e-78cd-40e8-a2d0-41e10810a7a2",
   "metadata": {},
   "outputs": [
    {
     "data": {
      "text/plain": [
       "1"
      ]
     },
     "execution_count": 245,
     "metadata": {},
     "output_type": "execute_result"
    }
   ],
   "source": [
    "# # Create a new database\n",
    "# cursor.execute(f\"CREATE DATABASE IF NOT EXISTS {MYSQL_DATABASE}\")"
   ]
  },
  {
   "cell_type": "code",
   "execution_count": 248,
   "id": "5648a7a8-7af2-44e0-9e54-511919f01ca8",
   "metadata": {},
   "outputs": [
    {
     "ename": "ArgumentError",
     "evalue": "Could not parse SQLAlchemy URL from string 'jdbc:mysql://sql12.freesqldatabase.com:3306/sql12740691'",
     "output_type": "error",
     "traceback": [
      "\u001b[1;31m---------------------------------------------------------------------------\u001b[0m",
      "\u001b[1;31mArgumentError\u001b[0m                             Traceback (most recent call last)",
      "Cell \u001b[1;32mIn[248], line 2\u001b[0m\n\u001b[0;32m      1\u001b[0m \u001b[38;5;66;03m# Create a MySQL database connection using SQLAlchemy\u001b[39;00m\n\u001b[1;32m----> 2\u001b[0m engine \u001b[38;5;241m=\u001b[39m \u001b[43mcreate_engine\u001b[49m\u001b[43m(\u001b[49m\u001b[38;5;124;43mf\u001b[39;49m\u001b[38;5;124;43m'\u001b[39;49m\u001b[38;5;124;43mjdbc:mysql://sql12.freesqldatabase.com:3306/sql12740691\u001b[39;49m\u001b[38;5;124;43m'\u001b[39;49m\u001b[43m)\u001b[49m  \u001b[38;5;66;03m# Replace with your MySQL details\u001b[39;00m\n\u001b[0;32m      4\u001b[0m \u001b[38;5;66;03m# Import data into MySQL tables\u001b[39;00m\n\u001b[0;32m      5\u001b[0m customers\u001b[38;5;241m.\u001b[39mto_sql(\u001b[38;5;124m'\u001b[39m\u001b[38;5;124mcustomers\u001b[39m\u001b[38;5;124m'\u001b[39m, engine, if_exists\u001b[38;5;241m=\u001b[39m\u001b[38;5;124m'\u001b[39m\u001b[38;5;124mreplace\u001b[39m\u001b[38;5;124m'\u001b[39m, index\u001b[38;5;241m=\u001b[39m\u001b[38;5;28;01mFalse\u001b[39;00m)  \u001b[38;5;66;03m# Inserts customer data into the 'customers' table\u001b[39;00m\n",
      "File \u001b[1;32m<string>:2\u001b[0m, in \u001b[0;36mcreate_engine\u001b[1;34m(url, **kwargs)\u001b[0m\n",
      "File \u001b[1;32m~\\AppData\\Local\\Programs\\Python\\Python312\\Lib\\site-packages\\sqlalchemy\\util\\deprecations.py:281\u001b[0m, in \u001b[0;36mdeprecated_params.<locals>.decorate.<locals>.warned\u001b[1;34m(fn, *args, **kwargs)\u001b[0m\n\u001b[0;32m    274\u001b[0m     \u001b[38;5;28;01mif\u001b[39;00m m \u001b[38;5;129;01min\u001b[39;00m kwargs:\n\u001b[0;32m    275\u001b[0m         _warn_with_version(\n\u001b[0;32m    276\u001b[0m             messages[m],\n\u001b[0;32m    277\u001b[0m             versions[m],\n\u001b[0;32m    278\u001b[0m             version_warnings[m],\n\u001b[0;32m    279\u001b[0m             stacklevel\u001b[38;5;241m=\u001b[39m\u001b[38;5;241m3\u001b[39m,\n\u001b[0;32m    280\u001b[0m         )\n\u001b[1;32m--> 281\u001b[0m \u001b[38;5;28;01mreturn\u001b[39;00m \u001b[43mfn\u001b[49m\u001b[43m(\u001b[49m\u001b[38;5;241;43m*\u001b[39;49m\u001b[43margs\u001b[49m\u001b[43m,\u001b[49m\u001b[43m \u001b[49m\u001b[38;5;241;43m*\u001b[39;49m\u001b[38;5;241;43m*\u001b[39;49m\u001b[43mkwargs\u001b[49m\u001b[43m)\u001b[49m\n",
      "File \u001b[1;32m~\\AppData\\Local\\Programs\\Python\\Python312\\Lib\\site-packages\\sqlalchemy\\engine\\create.py:546\u001b[0m, in \u001b[0;36mcreate_engine\u001b[1;34m(url, **kwargs)\u001b[0m\n\u001b[0;32m    543\u001b[0m kwargs\u001b[38;5;241m.\u001b[39mpop(\u001b[38;5;124m\"\u001b[39m\u001b[38;5;124mempty_in_strategy\u001b[39m\u001b[38;5;124m\"\u001b[39m, \u001b[38;5;28;01mNone\u001b[39;00m)\n\u001b[0;32m    545\u001b[0m \u001b[38;5;66;03m# create url.URL object\u001b[39;00m\n\u001b[1;32m--> 546\u001b[0m u \u001b[38;5;241m=\u001b[39m \u001b[43m_url\u001b[49m\u001b[38;5;241;43m.\u001b[39;49m\u001b[43mmake_url\u001b[49m\u001b[43m(\u001b[49m\u001b[43murl\u001b[49m\u001b[43m)\u001b[49m\n\u001b[0;32m    548\u001b[0m u, plugins, kwargs \u001b[38;5;241m=\u001b[39m u\u001b[38;5;241m.\u001b[39m_instantiate_plugins(kwargs)\n\u001b[0;32m    550\u001b[0m entrypoint \u001b[38;5;241m=\u001b[39m u\u001b[38;5;241m.\u001b[39m_get_entrypoint()\n",
      "File \u001b[1;32m~\\AppData\\Local\\Programs\\Python\\Python312\\Lib\\site-packages\\sqlalchemy\\engine\\url.py:842\u001b[0m, in \u001b[0;36mmake_url\u001b[1;34m(name_or_url)\u001b[0m\n\u001b[0;32m    826\u001b[0m \u001b[38;5;250m\u001b[39m\u001b[38;5;124;03m\"\"\"Given a string, produce a new URL instance.\u001b[39;00m\n\u001b[0;32m    827\u001b[0m \n\u001b[0;32m    828\u001b[0m \u001b[38;5;124;03mThe format of the URL generally follows `RFC-1738\u001b[39;00m\n\u001b[1;32m   (...)\u001b[0m\n\u001b[0;32m    838\u001b[0m \n\u001b[0;32m    839\u001b[0m \u001b[38;5;124;03m\"\"\"\u001b[39;00m\n\u001b[0;32m    841\u001b[0m \u001b[38;5;28;01mif\u001b[39;00m \u001b[38;5;28misinstance\u001b[39m(name_or_url, \u001b[38;5;28mstr\u001b[39m):\n\u001b[1;32m--> 842\u001b[0m     \u001b[38;5;28;01mreturn\u001b[39;00m \u001b[43m_parse_url\u001b[49m\u001b[43m(\u001b[49m\u001b[43mname_or_url\u001b[49m\u001b[43m)\u001b[49m\n\u001b[0;32m    843\u001b[0m \u001b[38;5;28;01melif\u001b[39;00m \u001b[38;5;129;01mnot\u001b[39;00m \u001b[38;5;28misinstance\u001b[39m(name_or_url, URL) \u001b[38;5;129;01mand\u001b[39;00m \u001b[38;5;129;01mnot\u001b[39;00m \u001b[38;5;28mhasattr\u001b[39m(\n\u001b[0;32m    844\u001b[0m     name_or_url, \u001b[38;5;124m\"\u001b[39m\u001b[38;5;124m_sqla_is_testing_if_this_is_a_mock_object\u001b[39m\u001b[38;5;124m\"\u001b[39m\n\u001b[0;32m    845\u001b[0m ):\n\u001b[0;32m    846\u001b[0m     \u001b[38;5;28;01mraise\u001b[39;00m exc\u001b[38;5;241m.\u001b[39mArgumentError(\n\u001b[0;32m    847\u001b[0m         \u001b[38;5;124mf\u001b[39m\u001b[38;5;124m\"\u001b[39m\u001b[38;5;124mExpected string or URL object, got \u001b[39m\u001b[38;5;132;01m{\u001b[39;00mname_or_url\u001b[38;5;132;01m!r}\u001b[39;00m\u001b[38;5;124m\"\u001b[39m\n\u001b[0;32m    848\u001b[0m     )\n",
      "File \u001b[1;32m~\\AppData\\Local\\Programs\\Python\\Python312\\Lib\\site-packages\\sqlalchemy\\engine\\url.py:908\u001b[0m, in \u001b[0;36m_parse_url\u001b[1;34m(name)\u001b[0m\n\u001b[0;32m    905\u001b[0m     \u001b[38;5;28;01mreturn\u001b[39;00m URL\u001b[38;5;241m.\u001b[39mcreate(name, \u001b[38;5;241m*\u001b[39m\u001b[38;5;241m*\u001b[39mcomponents)  \u001b[38;5;66;03m# type: ignore\u001b[39;00m\n\u001b[0;32m    907\u001b[0m \u001b[38;5;28;01melse\u001b[39;00m:\n\u001b[1;32m--> 908\u001b[0m     \u001b[38;5;28;01mraise\u001b[39;00m exc\u001b[38;5;241m.\u001b[39mArgumentError(\n\u001b[0;32m    909\u001b[0m         \u001b[38;5;124m\"\u001b[39m\u001b[38;5;124mCould not parse SQLAlchemy URL from string \u001b[39m\u001b[38;5;124m'\u001b[39m\u001b[38;5;132;01m%s\u001b[39;00m\u001b[38;5;124m'\u001b[39m\u001b[38;5;124m\"\u001b[39m \u001b[38;5;241m%\u001b[39m name\n\u001b[0;32m    910\u001b[0m     )\n",
      "\u001b[1;31mArgumentError\u001b[0m: Could not parse SQLAlchemy URL from string 'jdbc:mysql://sql12.freesqldatabase.com:3306/sql12740691'"
     ]
    }
   ],
   "source": [
    "# Create a MySQL database connection using SQLAlchemy\n",
    "engine = create_engine(f'jdbc:mysql://sql12.freesqldatabase.com:3306/sql12740691')  # Replace with your MySQL details\n",
    "\n",
    "# Import data into MySQL tables\n",
    "customers.to_sql('customers', engine, if_exists='replace', index=False)  # Inserts customer data into the 'customers' table\n",
    "orders.to_sql('orders', engine, if_exists='replace', index=False)  # Inserts order data into the 'orders' table"
   ]
  },
  {
   "cell_type": "code",
   "execution_count": 237,
   "id": "05374829-4313-44ae-9b3b-6fd0d0a575c4",
   "metadata": {},
   "outputs": [
    {
     "name": "stdout",
     "output_type": "stream",
     "text": [
      "Connection successful!\n"
     ]
    }
   ],
   "source": [
    "try:\n",
    "    # Create a connection to the MySQL database\n",
    "    engine = create_engine('mysql+pymysql://root:@localhost/customer_order')\n",
    "    connection = engine.connect()  # Establish the connection\n",
    "    print(\"Connection successful!\")\n",
    "except SQLAlchemyError as e:\n",
    "    print(f\"Error connecting to the database: {e}\")"
   ]
  },
  {
   "cell_type": "code",
   "execution_count": null,
   "id": "89f8d4de-f900-4206-91d7-eabb25b4c107",
   "metadata": {},
   "outputs": [],
   "source": []
  }
 ],
 "metadata": {
  "kernelspec": {
   "display_name": "Python 3 (ipykernel)",
   "language": "python",
   "name": "python3"
  },
  "language_info": {
   "codemirror_mode": {
    "name": "ipython",
    "version": 3
   },
   "file_extension": ".py",
   "mimetype": "text/x-python",
   "name": "python",
   "nbconvert_exporter": "python",
   "pygments_lexer": "ipython3",
   "version": "3.12.1"
  }
 },
 "nbformat": 4,
 "nbformat_minor": 5
}
